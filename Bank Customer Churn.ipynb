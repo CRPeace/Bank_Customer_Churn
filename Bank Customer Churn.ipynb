{
 "cells": [
  {
   "cell_type": "markdown",
   "id": "548c4cfa",
   "metadata": {},
   "source": [
    "# Bank Customer Churn\n"
   ]
  },
  {
   "cell_type": "markdown",
   "id": "7b3de9b3",
   "metadata": {},
   "source": [
    "## Data Background"
   ]
  },
  {
   "cell_type": "markdown",
   "id": "cf798776",
   "metadata": {},
   "source": [
    "This dataset can be found [here](https://www.kaggle.com/datasets/gauravtopre/bank-customer-churn-dataset) on kaggle.com.  It appears to be fictitious data created for a ML classification exercise"
   ]
  },
  {
   "cell_type": "markdown",
   "id": "9706f3db",
   "metadata": {},
   "source": [
    "## Data Dictionary\n"
   ]
  },
  {
   "cell_type": "markdown",
   "id": "9734d316",
   "metadata": {},
   "source": [
    "* **customer_id** - unused variable.\n",
    "* **credit_score** - used as input.\n",
    "* **country** - used as input.\n",
    "* **gender** - used as input.\n",
    "* **age** - used as input.\n",
    "* **tenure** - used as input.\n",
    "* **balance** - used as input.\n",
    "* **products_number** - used as input.\n",
    "* **credit_card** - used as input.\n",
    "* **active_member** - used as input.\n",
    "* **estimated_salary** - used as input.\n",
    "* **churn** - used as the target. 1 if the client has left the bank during some period or 0 if he/she has not."
   ]
  },
  {
   "cell_type": "markdown",
   "id": "7410ed07",
   "metadata": {},
   "source": [
    "## Imports"
   ]
  },
  {
   "cell_type": "code",
   "execution_count": 2,
   "id": "d7c09af6",
   "metadata": {},
   "outputs": [],
   "source": [
    "# Analysis, Visualization\n",
    "import pandas as pd\n",
    "import numpy as np\n",
    "from matplotlib import pyplot as plt\n",
    "import seaborn as sns\n",
    "# DBMS\n",
    "import duckdb\n",
    "# ML\n",
    "from sklearn.preprocessing import StandardScaler, OneHotEncoder\n",
    "from sklearn.impute import SimpleImputer\n",
    "from sklearn.compose import make_column_transformer, make_column_selector\n",
    "from sklearn.pipeline import make_pipeline\n",
    "from sklearn.model_selection import (train_test_split, GridSearchCV,\n",
    "                                     RandomizedSearchCV)\n",
    "# Models\n",
    "from sklearn.linear_model import LinearRegression, LogisticRegression\n",
    "from sklearn.tree import DecisionTreeRegressor, DecisionTreeClassifier\n",
    "from sklearn.ensemble import BaggingClassifier, RandomForestClassifier\n",
    "from sklearn.neighbors import KNeighborsClassifier\n",
    "# Metrics\n",
    "from sklearn.metrics import (mean_absolute_error, mean_squared_error, r2_score, \n",
    "accuracy_score, precision_score, recall_score, classification_report,\n",
    "ConfusionMatrixDisplay)"
   ]
  },
  {
   "cell_type": "markdown",
   "id": "758ce28b",
   "metadata": {},
   "source": [
    "## Database Creation"
   ]
  },
  {
   "cell_type": "code",
   "execution_count": 3,
   "id": "b9caa186",
   "metadata": {},
   "outputs": [],
   "source": [
    "# creating connection to database\n",
    "conn = duckdb.connect('churn_data.db')"
   ]
  },
  {
   "cell_type": "code",
   "execution_count": null,
   "id": "c3f1aebc",
   "metadata": {},
   "outputs": [],
   "source": []
  }
 ],
 "metadata": {
  "kernelspec": {
   "display_name": "Python (dojo-env)",
   "language": "python",
   "name": "dojo-env"
  },
  "language_info": {
   "codemirror_mode": {
    "name": "ipython",
    "version": 3
   },
   "file_extension": ".py",
   "mimetype": "text/x-python",
   "name": "python",
   "nbconvert_exporter": "python",
   "pygments_lexer": "ipython3",
   "version": "3.9.15"
  },
  "toc": {
   "base_numbering": 1,
   "nav_menu": {},
   "number_sections": false,
   "sideBar": true,
   "skip_h1_title": false,
   "title_cell": "Table of Contents",
   "title_sidebar": "Contents",
   "toc_cell": false,
   "toc_position": {},
   "toc_section_display": true,
   "toc_window_display": false
  }
 },
 "nbformat": 4,
 "nbformat_minor": 5
}
