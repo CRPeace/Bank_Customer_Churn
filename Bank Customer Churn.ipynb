{
 "cells": [
  {
   "cell_type": "markdown",
   "id": "f2939d4c",
   "metadata": {},
   "source": [
    "# Bank Customer Churn\n"
   ]
  },
  {
   "cell_type": "markdown",
   "id": "2b263e6d",
   "metadata": {},
   "source": [
    "## Data Background"
   ]
  },
  {
   "cell_type": "markdown",
   "id": "fba7a4b8",
   "metadata": {},
   "source": [
    "This dataset can be found [here](https://www.kaggle.com/datasets/gauravtopre/bank-customer-churn-dataset) on kaggle.com.  It appears to be fictitious data created for a ML classification exercise"
   ]
  },
  {
   "cell_type": "markdown",
   "id": "630238c9",
   "metadata": {},
   "source": [
    "## Data Dictionary\n"
   ]
  },
  {
   "cell_type": "markdown",
   "id": "70f64f4b",
   "metadata": {},
   "source": [
    "* **customer_id** - unused variable.\n",
    "* **credit_score** - \n",
    "* **country** - \n",
    "* **gender** - 'Male' or 'Female'\n",
    "* **age** - \n",
    "* **tenure** - assuming years with as customer\n",
    "* **balance** - \n",
    "* **products_number** - assuming number of bank products used (e.g. credit, home loan, checking acct., etc.)\n",
    "* **credit_card** - 1 or 0\n",
    "* **active_member** - 1 or 0\n",
    "* **estimated_salary** - \n",
    "* **churn** - used as the target. 1 if the client has left the bank during some period or 0 if he/she has not."
   ]
  },
  {
   "cell_type": "markdown",
   "id": "62cfab86",
   "metadata": {},
   "source": [
    "## Imports"
   ]
  },
  {
   "cell_type": "code",
   "execution_count": 2,
   "id": "36e5e56a",
   "metadata": {},
   "outputs": [],
   "source": [
    "# Analysis, Visualization\n",
    "import pandas as pd\n",
    "import numpy as np\n",
    "from matplotlib import pyplot as plt\n",
    "import seaborn as sns\n",
    "# DBMS\n",
    "import duckdb\n",
    "# ML\n",
    "from sklearn.preprocessing import StandardScaler, OneHotEncoder\n",
    "from sklearn.impute import SimpleImputer\n",
    "from sklearn.compose import make_column_transformer, make_column_selector\n",
    "from sklearn.pipeline import make_pipeline\n",
    "from sklearn.model_selection import (train_test_split, GridSearchCV,\n",
    "                                     RandomizedSearchCV)\n",
    "# Models\n",
    "from sklearn.linear_model import LinearRegression, LogisticRegression\n",
    "from sklearn.tree import DecisionTreeRegressor, DecisionTreeClassifier\n",
    "from sklearn.ensemble import BaggingClassifier, RandomForestClassifier\n",
    "from sklearn.neighbors import KNeighborsClassifier\n",
    "# Metrics\n",
    "from sklearn.metrics import (mean_absolute_error, mean_squared_error, r2_score, \n",
    "accuracy_score, precision_score, recall_score, classification_report,\n",
    "ConfusionMatrixDisplay)"
   ]
  },
  {
   "cell_type": "markdown",
   "id": "ba7a8103",
   "metadata": {},
   "source": [
    "## Database Creation, Loading Data"
   ]
  },
  {
   "cell_type": "code",
   "execution_count": 3,
   "id": "d1e6fa53",
   "metadata": {},
   "outputs": [],
   "source": [
    "# creating connection to database\n",
    "conn = duckdb.connect('churn_data.db')"
   ]
  },
  {
   "cell_type": "code",
   "execution_count": 6,
   "id": "619aae05",
   "metadata": {},
   "outputs": [],
   "source": [
    "# creating a \n",
    "df = conn.execute('''\n",
    "select *\n",
    "from 'Bank Customer Churn Prediction.csv'\n",
    "''').df()"
   ]
  },
  {
   "cell_type": "markdown",
   "id": "81d144a4",
   "metadata": {},
   "source": [
    "## Viewing Data"
   ]
  },
  {
   "cell_type": "code",
   "execution_count": 7,
   "id": "c1a0bdd5",
   "metadata": {
    "scrolled": true
   },
   "outputs": [
    {
     "data": {
      "text/html": [
       "<div>\n",
       "<style scoped>\n",
       "    .dataframe tbody tr th:only-of-type {\n",
       "        vertical-align: middle;\n",
       "    }\n",
       "\n",
       "    .dataframe tbody tr th {\n",
       "        vertical-align: top;\n",
       "    }\n",
       "\n",
       "    .dataframe thead th {\n",
       "        text-align: right;\n",
       "    }\n",
       "</style>\n",
       "<table border=\"1\" class=\"dataframe\">\n",
       "  <thead>\n",
       "    <tr style=\"text-align: right;\">\n",
       "      <th></th>\n",
       "      <th>customer_id</th>\n",
       "      <th>credit_score</th>\n",
       "      <th>country</th>\n",
       "      <th>gender</th>\n",
       "      <th>age</th>\n",
       "      <th>tenure</th>\n",
       "      <th>balance</th>\n",
       "      <th>products_number</th>\n",
       "      <th>credit_card</th>\n",
       "      <th>active_member</th>\n",
       "      <th>estimated_salary</th>\n",
       "      <th>churn</th>\n",
       "    </tr>\n",
       "  </thead>\n",
       "  <tbody>\n",
       "    <tr>\n",
       "      <th>766</th>\n",
       "      <td>15810864</td>\n",
       "      <td>700</td>\n",
       "      <td>France</td>\n",
       "      <td>Female</td>\n",
       "      <td>82</td>\n",
       "      <td>2</td>\n",
       "      <td>0.00</td>\n",
       "      <td>2</td>\n",
       "      <td>0</td>\n",
       "      <td>1</td>\n",
       "      <td>182055.36</td>\n",
       "      <td>0</td>\n",
       "    </tr>\n",
       "    <tr>\n",
       "      <th>1164</th>\n",
       "      <td>15750776</td>\n",
       "      <td>850</td>\n",
       "      <td>France</td>\n",
       "      <td>Female</td>\n",
       "      <td>36</td>\n",
       "      <td>0</td>\n",
       "      <td>164850.54</td>\n",
       "      <td>1</td>\n",
       "      <td>1</td>\n",
       "      <td>1</td>\n",
       "      <td>62722.44</td>\n",
       "      <td>0</td>\n",
       "    </tr>\n",
       "    <tr>\n",
       "      <th>8465</th>\n",
       "      <td>15601569</td>\n",
       "      <td>598</td>\n",
       "      <td>France</td>\n",
       "      <td>Female</td>\n",
       "      <td>40</td>\n",
       "      <td>2</td>\n",
       "      <td>171178.25</td>\n",
       "      <td>1</td>\n",
       "      <td>1</td>\n",
       "      <td>0</td>\n",
       "      <td>137980.58</td>\n",
       "      <td>1</td>\n",
       "    </tr>\n",
       "    <tr>\n",
       "      <th>5926</th>\n",
       "      <td>15757559</td>\n",
       "      <td>595</td>\n",
       "      <td>France</td>\n",
       "      <td>Female</td>\n",
       "      <td>53</td>\n",
       "      <td>7</td>\n",
       "      <td>0.00</td>\n",
       "      <td>2</td>\n",
       "      <td>1</td>\n",
       "      <td>0</td>\n",
       "      <td>41371.68</td>\n",
       "      <td>1</td>\n",
       "    </tr>\n",
       "    <tr>\n",
       "      <th>4537</th>\n",
       "      <td>15777436</td>\n",
       "      <td>710</td>\n",
       "      <td>Spain</td>\n",
       "      <td>Female</td>\n",
       "      <td>31</td>\n",
       "      <td>5</td>\n",
       "      <td>0.00</td>\n",
       "      <td>2</td>\n",
       "      <td>1</td>\n",
       "      <td>0</td>\n",
       "      <td>9561.73</td>\n",
       "      <td>0</td>\n",
       "    </tr>\n",
       "  </tbody>\n",
       "</table>\n",
       "</div>"
      ],
      "text/plain": [
       "      customer_id  credit_score country  gender  age  tenure    balance  \\\n",
       "766      15810864           700  France  Female   82       2       0.00   \n",
       "1164     15750776           850  France  Female   36       0  164850.54   \n",
       "8465     15601569           598  France  Female   40       2  171178.25   \n",
       "5926     15757559           595  France  Female   53       7       0.00   \n",
       "4537     15777436           710   Spain  Female   31       5       0.00   \n",
       "\n",
       "      products_number  credit_card  active_member  estimated_salary  churn  \n",
       "766                 2            0              1         182055.36      0  \n",
       "1164                1            1              1          62722.44      0  \n",
       "8465                1            1              0         137980.58      1  \n",
       "5926                2            1              0          41371.68      1  \n",
       "4537                2            1              0           9561.73      0  "
      ]
     },
     "execution_count": 7,
     "metadata": {},
     "output_type": "execute_result"
    }
   ],
   "source": [
    "df.sample(5)"
   ]
  },
  {
   "cell_type": "code",
   "execution_count": 9,
   "id": "0f09e44c",
   "metadata": {},
   "outputs": [
    {
     "name": "stdout",
     "output_type": "stream",
     "text": [
      "<class 'pandas.core.frame.DataFrame'>\n",
      "RangeIndex: 10000 entries, 0 to 9999\n",
      "Data columns (total 12 columns):\n",
      " #   Column            Non-Null Count  Dtype  \n",
      "---  ------            --------------  -----  \n",
      " 0   customer_id       10000 non-null  int64  \n",
      " 1   credit_score      10000 non-null  int64  \n",
      " 2   country           10000 non-null  object \n",
      " 3   gender            10000 non-null  object \n",
      " 4   age               10000 non-null  int64  \n",
      " 5   tenure            10000 non-null  int64  \n",
      " 6   balance           10000 non-null  float64\n",
      " 7   products_number   10000 non-null  int64  \n",
      " 8   credit_card       10000 non-null  int64  \n",
      " 9   active_member     10000 non-null  int64  \n",
      " 10  estimated_salary  10000 non-null  float64\n",
      " 11  churn             10000 non-null  int64  \n",
      "dtypes: float64(2), int64(8), object(2)\n",
      "memory usage: 937.6+ KB\n"
     ]
    },
    {
     "data": {
      "text/html": [
       "<div>\n",
       "<style scoped>\n",
       "    .dataframe tbody tr th:only-of-type {\n",
       "        vertical-align: middle;\n",
       "    }\n",
       "\n",
       "    .dataframe tbody tr th {\n",
       "        vertical-align: top;\n",
       "    }\n",
       "\n",
       "    .dataframe thead th {\n",
       "        text-align: right;\n",
       "    }\n",
       "</style>\n",
       "<table border=\"1\" class=\"dataframe\">\n",
       "  <thead>\n",
       "    <tr style=\"text-align: right;\">\n",
       "      <th></th>\n",
       "      <th>count</th>\n",
       "      <th>unique</th>\n",
       "      <th>top</th>\n",
       "      <th>freq</th>\n",
       "      <th>mean</th>\n",
       "      <th>std</th>\n",
       "      <th>min</th>\n",
       "      <th>25%</th>\n",
       "      <th>50%</th>\n",
       "      <th>75%</th>\n",
       "      <th>max</th>\n",
       "    </tr>\n",
       "  </thead>\n",
       "  <tbody>\n",
       "    <tr>\n",
       "      <th>customer_id</th>\n",
       "      <td>10000.0</td>\n",
       "      <td>NaN</td>\n",
       "      <td>NaN</td>\n",
       "      <td>NaN</td>\n",
       "      <td>15690940.5694</td>\n",
       "      <td>71936.186123</td>\n",
       "      <td>15565701.0</td>\n",
       "      <td>15628528.25</td>\n",
       "      <td>15690738.0</td>\n",
       "      <td>15753233.75</td>\n",
       "      <td>15815690.0</td>\n",
       "    </tr>\n",
       "    <tr>\n",
       "      <th>credit_score</th>\n",
       "      <td>10000.0</td>\n",
       "      <td>NaN</td>\n",
       "      <td>NaN</td>\n",
       "      <td>NaN</td>\n",
       "      <td>650.5288</td>\n",
       "      <td>96.653299</td>\n",
       "      <td>350.0</td>\n",
       "      <td>584.0</td>\n",
       "      <td>652.0</td>\n",
       "      <td>718.0</td>\n",
       "      <td>850.0</td>\n",
       "    </tr>\n",
       "    <tr>\n",
       "      <th>country</th>\n",
       "      <td>10000</td>\n",
       "      <td>3</td>\n",
       "      <td>France</td>\n",
       "      <td>5014</td>\n",
       "      <td>NaN</td>\n",
       "      <td>NaN</td>\n",
       "      <td>NaN</td>\n",
       "      <td>NaN</td>\n",
       "      <td>NaN</td>\n",
       "      <td>NaN</td>\n",
       "      <td>NaN</td>\n",
       "    </tr>\n",
       "    <tr>\n",
       "      <th>gender</th>\n",
       "      <td>10000</td>\n",
       "      <td>2</td>\n",
       "      <td>Male</td>\n",
       "      <td>5457</td>\n",
       "      <td>NaN</td>\n",
       "      <td>NaN</td>\n",
       "      <td>NaN</td>\n",
       "      <td>NaN</td>\n",
       "      <td>NaN</td>\n",
       "      <td>NaN</td>\n",
       "      <td>NaN</td>\n",
       "    </tr>\n",
       "    <tr>\n",
       "      <th>age</th>\n",
       "      <td>10000.0</td>\n",
       "      <td>NaN</td>\n",
       "      <td>NaN</td>\n",
       "      <td>NaN</td>\n",
       "      <td>38.9218</td>\n",
       "      <td>10.487806</td>\n",
       "      <td>18.0</td>\n",
       "      <td>32.0</td>\n",
       "      <td>37.0</td>\n",
       "      <td>44.0</td>\n",
       "      <td>92.0</td>\n",
       "    </tr>\n",
       "    <tr>\n",
       "      <th>tenure</th>\n",
       "      <td>10000.0</td>\n",
       "      <td>NaN</td>\n",
       "      <td>NaN</td>\n",
       "      <td>NaN</td>\n",
       "      <td>5.0128</td>\n",
       "      <td>2.892174</td>\n",
       "      <td>0.0</td>\n",
       "      <td>3.0</td>\n",
       "      <td>5.0</td>\n",
       "      <td>7.0</td>\n",
       "      <td>10.0</td>\n",
       "    </tr>\n",
       "    <tr>\n",
       "      <th>balance</th>\n",
       "      <td>10000.0</td>\n",
       "      <td>NaN</td>\n",
       "      <td>NaN</td>\n",
       "      <td>NaN</td>\n",
       "      <td>76485.889288</td>\n",
       "      <td>62397.405202</td>\n",
       "      <td>0.0</td>\n",
       "      <td>0.0</td>\n",
       "      <td>97198.54</td>\n",
       "      <td>127644.24</td>\n",
       "      <td>250898.09</td>\n",
       "    </tr>\n",
       "    <tr>\n",
       "      <th>products_number</th>\n",
       "      <td>10000.0</td>\n",
       "      <td>NaN</td>\n",
       "      <td>NaN</td>\n",
       "      <td>NaN</td>\n",
       "      <td>1.5302</td>\n",
       "      <td>0.581654</td>\n",
       "      <td>1.0</td>\n",
       "      <td>1.0</td>\n",
       "      <td>1.0</td>\n",
       "      <td>2.0</td>\n",
       "      <td>4.0</td>\n",
       "    </tr>\n",
       "    <tr>\n",
       "      <th>credit_card</th>\n",
       "      <td>10000.0</td>\n",
       "      <td>NaN</td>\n",
       "      <td>NaN</td>\n",
       "      <td>NaN</td>\n",
       "      <td>0.7055</td>\n",
       "      <td>0.45584</td>\n",
       "      <td>0.0</td>\n",
       "      <td>0.0</td>\n",
       "      <td>1.0</td>\n",
       "      <td>1.0</td>\n",
       "      <td>1.0</td>\n",
       "    </tr>\n",
       "    <tr>\n",
       "      <th>active_member</th>\n",
       "      <td>10000.0</td>\n",
       "      <td>NaN</td>\n",
       "      <td>NaN</td>\n",
       "      <td>NaN</td>\n",
       "      <td>0.5151</td>\n",
       "      <td>0.499797</td>\n",
       "      <td>0.0</td>\n",
       "      <td>0.0</td>\n",
       "      <td>1.0</td>\n",
       "      <td>1.0</td>\n",
       "      <td>1.0</td>\n",
       "    </tr>\n",
       "    <tr>\n",
       "      <th>estimated_salary</th>\n",
       "      <td>10000.0</td>\n",
       "      <td>NaN</td>\n",
       "      <td>NaN</td>\n",
       "      <td>NaN</td>\n",
       "      <td>100090.239881</td>\n",
       "      <td>57510.492818</td>\n",
       "      <td>11.58</td>\n",
       "      <td>51002.11</td>\n",
       "      <td>100193.915</td>\n",
       "      <td>149388.2475</td>\n",
       "      <td>199992.48</td>\n",
       "    </tr>\n",
       "    <tr>\n",
       "      <th>churn</th>\n",
       "      <td>10000.0</td>\n",
       "      <td>NaN</td>\n",
       "      <td>NaN</td>\n",
       "      <td>NaN</td>\n",
       "      <td>0.2037</td>\n",
       "      <td>0.402769</td>\n",
       "      <td>0.0</td>\n",
       "      <td>0.0</td>\n",
       "      <td>0.0</td>\n",
       "      <td>0.0</td>\n",
       "      <td>1.0</td>\n",
       "    </tr>\n",
       "  </tbody>\n",
       "</table>\n",
       "</div>"
      ],
      "text/plain": [
       "                    count unique     top  freq           mean           std  \\\n",
       "customer_id       10000.0    NaN     NaN   NaN  15690940.5694  71936.186123   \n",
       "credit_score      10000.0    NaN     NaN   NaN       650.5288     96.653299   \n",
       "country             10000      3  France  5014            NaN           NaN   \n",
       "gender              10000      2    Male  5457            NaN           NaN   \n",
       "age               10000.0    NaN     NaN   NaN        38.9218     10.487806   \n",
       "tenure            10000.0    NaN     NaN   NaN         5.0128      2.892174   \n",
       "balance           10000.0    NaN     NaN   NaN   76485.889288  62397.405202   \n",
       "products_number   10000.0    NaN     NaN   NaN         1.5302      0.581654   \n",
       "credit_card       10000.0    NaN     NaN   NaN         0.7055       0.45584   \n",
       "active_member     10000.0    NaN     NaN   NaN         0.5151      0.499797   \n",
       "estimated_salary  10000.0    NaN     NaN   NaN  100090.239881  57510.492818   \n",
       "churn             10000.0    NaN     NaN   NaN         0.2037      0.402769   \n",
       "\n",
       "                         min          25%         50%          75%         max  \n",
       "customer_id       15565701.0  15628528.25  15690738.0  15753233.75  15815690.0  \n",
       "credit_score           350.0        584.0       652.0        718.0       850.0  \n",
       "country                  NaN          NaN         NaN          NaN         NaN  \n",
       "gender                   NaN          NaN         NaN          NaN         NaN  \n",
       "age                     18.0         32.0        37.0         44.0        92.0  \n",
       "tenure                   0.0          3.0         5.0          7.0        10.0  \n",
       "balance                  0.0          0.0    97198.54    127644.24   250898.09  \n",
       "products_number          1.0          1.0         1.0          2.0         4.0  \n",
       "credit_card              0.0          0.0         1.0          1.0         1.0  \n",
       "active_member            0.0          0.0         1.0          1.0         1.0  \n",
       "estimated_salary       11.58     51002.11  100193.915  149388.2475   199992.48  \n",
       "churn                    0.0          0.0         0.0          0.0         1.0  "
      ]
     },
     "metadata": {},
     "output_type": "display_data"
    },
    {
     "data": {
      "text/plain": [
       "None"
      ]
     },
     "metadata": {},
     "output_type": "display_data"
    },
    {
     "data": {
      "text/plain": [
       "Index(['customer_id', 'credit_score', 'country', 'gender', 'age', 'tenure',\n",
       "       'balance', 'products_number', 'credit_card', 'active_member',\n",
       "       'estimated_salary', 'churn'],\n",
       "      dtype='object')"
      ]
     },
     "metadata": {},
     "output_type": "display_data"
    }
   ],
   "source": [
    "display(df.describe(include='all').T, df.info(), df.columns)"
   ]
  },
  {
   "cell_type": "markdown",
   "id": "3f609652",
   "metadata": {},
   "source": [
    "<mark><u>**Comment:**</u>\n",
    "\n",
    "* <font color='dodgerblue' size=4><i>\n",
    "    Overall this data looks pretty clean, we will still check for duplicates and NaNs, but it appears to have been pre-cleaned.\n",
    "* <font color='dodgerblue' size=4><i>\n",
    "    We should be able to discard customer id, but will check to make sure there are no duplicate values (customer entered in twice).\n",
    "* <font color='dodgerblue' size=4><i>\n",
    "    There are only 3 countries in the dataset, with France being the most frequent.  We'll have to keep this in mind when thinking of the scope of the model's usability\n",
    "* <font color='dodgerblue' size=4><i>\n",
    "    Most of our values are already ordinal/ohe encoded, but will have to adjust the 'gender' column.\n",
    "    \n",
    "</i></font>"
   ]
  },
  {
   "cell_type": "markdown",
   "id": "919442ec",
   "metadata": {},
   "source": [
    "## Cleaning"
   ]
  },
  {
   "cell_type": "markdown",
   "id": "af5395e4",
   "metadata": {},
   "source": [
    "### checking for duplicates, NaNs"
   ]
  },
  {
   "cell_type": "code",
   "execution_count": 12,
   "id": "d27b82a0",
   "metadata": {},
   "outputs": [
    {
     "data": {
      "text/plain": [
       "0"
      ]
     },
     "execution_count": 12,
     "metadata": {},
     "output_type": "execute_result"
    }
   ],
   "source": [
    "df.duplicated().sum()"
   ]
  },
  {
   "cell_type": "code",
   "execution_count": 14,
   "id": "f6095ce8",
   "metadata": {},
   "outputs": [
    {
     "data": {
      "text/plain": [
       "customer_id         0\n",
       "credit_score        0\n",
       "country             0\n",
       "gender              0\n",
       "age                 0\n",
       "tenure              0\n",
       "balance             0\n",
       "products_number     0\n",
       "credit_card         0\n",
       "active_member       0\n",
       "estimated_salary    0\n",
       "churn               0\n",
       "dtype: int64"
      ]
     },
     "execution_count": 14,
     "metadata": {},
     "output_type": "execute_result"
    }
   ],
   "source": [
    "df.isna().sum()"
   ]
  },
  {
   "cell_type": "code",
   "execution_count": 16,
   "id": "9b879e34",
   "metadata": {},
   "outputs": [
    {
     "data": {
      "text/plain": [
       "1"
      ]
     },
     "execution_count": 16,
     "metadata": {},
     "output_type": "execute_result"
    }
   ],
   "source": [
    "# checking customer id column to see if there are repeated values\n",
    "df['customer_id'].value_counts().max()"
   ]
  },
  {
   "cell_type": "markdown",
   "id": "a933df20",
   "metadata": {},
   "source": [
    "### changing 'gender' to numerical, 1=male, 0=female"
   ]
  },
  {
   "cell_type": "code",
   "execution_count": 17,
   "id": "fd645849",
   "metadata": {},
   "outputs": [
    {
     "data": {
      "text/plain": [
       "gender\n",
       "1    5457\n",
       "0    4543\n",
       "Name: count, dtype: int64"
      ]
     },
     "execution_count": 17,
     "metadata": {},
     "output_type": "execute_result"
    }
   ],
   "source": [
    "df['gender'] = df['gender'].map({'Male': 1, 'Female': 0})\n",
    "\n",
    "# confirming\n",
    "df['gender'].value_counts()"
   ]
  },
  {
   "cell_type": "markdown",
   "id": "27a8d3f9",
   "metadata": {},
   "source": [
    "### checking categorical values for errors"
   ]
  },
  {
   "cell_type": "code",
   "execution_count": 19,
   "id": "e0ca57a6",
   "metadata": {},
   "outputs": [
    {
     "name": "stdout",
     "output_type": "stream",
     "text": [
      "COUNTRY \n",
      " ['France' 'Spain' 'Germany'] object\n",
      "GENDER \n",
      " [0 1] int64\n",
      "PRODUCTS_NUMBER \n",
      " [1 3 2 4] int64\n",
      "CREDIT_CARD \n",
      " [1 0] int64\n",
      "ACTIVE_MEMBER \n",
      " [1 0] int64\n",
      "CHURN \n",
      " [1 0] int64\n"
     ]
    }
   ],
   "source": [
    "for i in df.columns:\n",
    "    if df[i].dtype == 'object' or df[i].nunique() <= 10:\n",
    "        print(i.upper(), '\\n', df[i].unique(), df[i].dtype)"
   ]
  },
  {
   "cell_type": "markdown",
   "id": "b97daec4",
   "metadata": {},
   "source": [
    "<mark><u>**Comment:**</u>\n",
    "\n",
    "<font color='dodgerblue' size=4><i>\n",
    "All looks good!\n",
    "</i></font>"
   ]
  },
  {
   "cell_type": "markdown",
   "id": "14fb8336",
   "metadata": {},
   "source": [
    "### rechecking dtypes"
   ]
  },
  {
   "cell_type": "code",
   "execution_count": 20,
   "id": "4de47316",
   "metadata": {},
   "outputs": [
    {
     "data": {
      "text/plain": [
       "customer_id           int64\n",
       "credit_score          int64\n",
       "country              object\n",
       "gender                int64\n",
       "age                   int64\n",
       "tenure                int64\n",
       "balance             float64\n",
       "products_number       int64\n",
       "credit_card           int64\n",
       "active_member         int64\n",
       "estimated_salary    float64\n",
       "churn                 int64\n",
       "dtype: object"
      ]
     },
     "execution_count": 20,
     "metadata": {},
     "output_type": "execute_result"
    }
   ],
   "source": [
    "df.dtypes"
   ]
  },
  {
   "cell_type": "code",
   "execution_count": null,
   "id": "1f5a936d",
   "metadata": {},
   "outputs": [],
   "source": []
  }
 ],
 "metadata": {
  "kernelspec": {
   "display_name": "Python (dojo-env)",
   "language": "python",
   "name": "dojo-env"
  },
  "language_info": {
   "codemirror_mode": {
    "name": "ipython",
    "version": 3
   },
   "file_extension": ".py",
   "mimetype": "text/x-python",
   "name": "python",
   "nbconvert_exporter": "python",
   "pygments_lexer": "ipython3",
   "version": "3.9.15"
  },
  "toc": {
   "base_numbering": 1,
   "nav_menu": {},
   "number_sections": false,
   "sideBar": true,
   "skip_h1_title": false,
   "title_cell": "Table of Contents",
   "title_sidebar": "Contents",
   "toc_cell": false,
   "toc_position": {},
   "toc_section_display": true,
   "toc_window_display": false
  }
 },
 "nbformat": 4,
 "nbformat_minor": 5
}
